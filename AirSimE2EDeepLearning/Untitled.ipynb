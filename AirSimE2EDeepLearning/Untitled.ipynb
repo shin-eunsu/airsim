{
 "cells": [
  {
   "cell_type": "code",
   "execution_count": 1,
   "metadata": {},
   "outputs": [],
   "source": [
    "import airsim\n",
    "import cv2\n",
    "import numpy as np\n",
    "import os\n",
    "#import setup_path \n",
    "import time"
   ]
  },
  {
   "cell_type": "code",
   "execution_count": 2,
   "metadata": {},
   "outputs": [
    {
     "name": "stdout",
     "output_type": "stream",
     "text": [
      "Connected!\n",
      "Client Ver:1 (Min Req: 1), Server Ver:1 (Min Req: 1)\n",
      "\n"
     ]
    }
   ],
   "source": [
    "# connect to the AirSim simulator \n",
    "client = airsim.CarClient()\n",
    "client.confirmConnection()\n",
    "client.enableApiControl(True)\n",
    "car_controls = airsim.CarControls()"
   ]
  },
  {
   "cell_type": "code",
   "execution_count": null,
   "metadata": {},
   "outputs": [],
   "source": [
    "for idx in range(1):\n",
    "    # get state of the car\n",
    "    car_state = client.getCarState()\n",
    "    print(\"Speed %d, Gear %d\" % (car_state.speed, car_state.gear))\n",
    "\n",
    "    # go forward\n",
    "    car_controls.throttle = 0.5\n",
    "    car_controls.steering = 0.1\n",
    "    client.setCarControls(car_controls)\n",
    "    print(\"Go Forward\")\n",
    "    #time.sleep(3)   # let car drive a bit\n",
    "\n",
    "    # Go forward + steer right\n",
    "    #car_controls.throttle = 0.5\n",
    "    #car_controls.steering = 1\n",
    "    #client.setCarControls(car_controls)\n",
    "    #print(\"Go Forward, steer right\")\n",
    "    #time.sleep(3)   # let car drive a bit\n",
    "\n",
    "    # go reverse\n",
    "    car_controls.throttle = -0.1\n",
    "    car_controls.is_manual_gear = True;\n",
    "    car_controls.manual_gear = -1\n",
    "    car_controls.steering = 0\n",
    "    client.setCarControls(car_controls)\n",
    "    print(\"Go reverse, steer right\")\n",
    "    time.sleep(3)   # let car drive a bit\n",
    "    car_controls.is_manual_gear = False; # change back gear to auto\n",
    "    car_controls.manual_gear = 0  \n",
    "\n",
    "    # apply brakes\n",
    "    car_controls.brake = 1\n",
    "    client.setCarControls(car_controls)\n",
    "    print(\"Apply brakes\")\n",
    "    time.sleep(3)   # let car drive a bit\n",
    "    car_controls.brake = 0 #remove brake\n",
    "    \n",
    "    # get camera images from the car\n",
    "    responses = client.simGetImages([\n",
    "        airsim.ImageRequest(\"0\", airsim.ImageType.DepthVis),  #depth visualization image\n",
    "        airsim.ImageRequest(\"1\", airsim.ImageType.DepthPerspective, True), #depth in perspective projection\n",
    "        airsim.ImageRequest(\"1\", airsim.ImageType.Scene), #scene vision image in png format\n",
    "        airsim.ImageRequest(\"1\", airsim.ImageType.Scene, False, False)])  #scene vision image in uncompressed RGB array\n",
    "    print('Retrieved images: %d', len(responses))\n",
    "\n",
    "    for response in responses:\n",
    "        filename = 'c:/temp/py' + str(idx)\n",
    "        if not os.path.exists('c:/temp/'):\n",
    "            os.makedirs('c:/temp/')\n",
    "        if response.pixels_as_float:\n",
    "            print(\"Type %d, size %d\" % (response.image_type, len(response.image_data_float)))\n",
    "            airsim.write_pfm(os.path.normpath(filename + '.pfm'), airsim.get_pfm_array(response))\n",
    "        elif response.compress: #png format\n",
    "            print(\"Type %d, size %d\" % (response.image_type, len(response.image_data_uint8)))\n",
    "            airsim.write_file(os.path.normpath(filename + '.png'), response.image_data_uint8)\n",
    "        else: #uncompressed array\n",
    "            print(\"Type %d, size %d\" % (response.image_type, len(response.image_data_uint8)))\n",
    "            img1d = np.fromstring(response.image_data_uint8, dtype=np.uint8) # get numpy array\n",
    "            img_rgb = img1d.reshape(response.height, response.width, 3) # reshape array to 3 channel image array H X W X 3\n",
    "            cv2.imwrite(os.path.normpath(filename + '.png'), img_rgb) # write to png \n",
    "\n",
    "#restore to original state\n",
    "#client.reset()\n",
    "\n",
    "client.enableApiControl(False)"
   ]
  },
  {
   "cell_type": "code",
   "execution_count": null,
   "metadata": {},
   "outputs": [],
   "source": []
  },
  {
   "cell_type": "code",
   "execution_count": null,
   "metadata": {},
   "outputs": [],
   "source": []
  }
 ],
 "metadata": {
  "kernelspec": {
   "display_name": "Python 3",
   "language": "python",
   "name": "python3"
  },
  "language_info": {
   "codemirror_mode": {
    "name": "ipython",
    "version": 3
   },
   "file_extension": ".py",
   "mimetype": "text/x-python",
   "name": "python",
   "nbconvert_exporter": "python",
   "pygments_lexer": "ipython3",
   "version": "3.6.10"
  }
 },
 "nbformat": 4,
 "nbformat_minor": 4
}
